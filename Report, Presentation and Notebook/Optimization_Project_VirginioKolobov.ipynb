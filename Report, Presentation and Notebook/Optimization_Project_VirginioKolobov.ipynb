{
  "nbformat": 4,
  "nbformat_minor": 0,
  "metadata": {
    "colab": {
      "provenance": []
    },
    "kernelspec": {
      "name": "python3",
      "display_name": "Python 3"
    },
    "language_info": {
      "name": "python"
    }
  },
  "cells": [
    {
      "cell_type": "markdown",
      "source": [
        "#How to access the code of the project\n",
        "\n",
        "The code is located on Github: https://github.com/JackdiQuadri97/Optimization-for-Data-Science---Project.git\n",
        "\n",
        "The files regarding the optmizers are located in:\n",
        "\n",
        "https://github.com/JackdiQuadri97/Optimization-for-Data-Science---Project/blob/master/optimization_methods/ZO_FWSA.py\n",
        "\n",
        "https://github.com/JackdiQuadri97/Optimization-for-Data-Science---Project/blob/master/optimization_methods/ZO_FCGS.py\n",
        "\n",
        "https://github.com/JackdiQuadri97/Optimization-for-Data-Science---Project/blob/master/optimization_methods/ZO_SCGS.py"
      ],
      "metadata": {
        "id": "PCRNG2UQa9Jx"
      }
    },
    {
      "cell_type": "code",
      "execution_count": null,
      "metadata": {
        "id": "ONrpBATZazgY",
        "colab": {
          "base_uri": "https://localhost:8080/"
        },
        "outputId": "96b203aa-f5d1-4b0b-eda1-2b343c896448"
      },
      "outputs": [
        {
          "output_type": "stream",
          "name": "stdout",
          "text": [
            "Cloning into 'Optimization-for-Data-Science---Project'...\n",
            "remote: Enumerating objects: 2612, done.\u001b[K\n",
            "remote: Counting objects: 100% (798/798), done.\u001b[K\n",
            "remote: Compressing objects: 100% (436/436), done.\u001b[K\n",
            "remote: Total 2612 (delta 352), reused 788 (delta 347), pack-reused 1814\u001b[K\n",
            "Receiving objects: 100% (2612/2612), 20.86 MiB | 8.42 MiB/s, done.\n",
            "Resolving deltas: 100% (391/391), done.\n",
            "/content/Optimization-for-Data-Science---Project\n"
          ]
        }
      ],
      "source": [
        "!git clone https://github.com/JackdiQuadri97/Optimization-for-Data-Science---Project.git\n",
        "%cd Optimization-for-Data-Science---Project"
      ]
    },
    {
      "cell_type": "markdown",
      "source": [
        "How to run a code for a particular optimizer - run this line assigning the parameters:"
      ],
      "metadata": {
        "id": "1Tbz2bEnbkx_"
      }
    },
    {
      "cell_type": "code",
      "source": [
        "# ZOSCGS\n",
        "!python Universal_Attack.py -optimizer ZOSCGS -alpha 300.0 -nStage 200 -nFunc 10 -mu 0.01 -target_label 4 -D 200 # it took around 1-1.5 hours to get the results with these parameters\n",
        "# FZCGS\n",
        "#!python Universal_Attack.py -optimizer ZOFCGS -q 3 -L 50 -nStage 200 -nFunc 10 -target_label 4\n",
        "# KWSA\n",
        "#!python Universal_Attack.py -optimizer ZOFWSA -nStage 50 -nFunc 10 -target_label 4 -SA KWSA\n",
        "# RDSA\n",
        "#!python Universal_Attack.py -optimizer ZOFWSA -nStage 50 -nFunc 10 -target_label 4 -SA RDSA\n",
        "# I-RDSA\n",
        "#!python Universal_Attack.py -optimizer ZOFWSA -m 50 -nStage 50 -nFunc 10 -target_label 4"
      ],
      "metadata": {
        "id": "5uTD9sT7bgre"
      },
      "execution_count": null,
      "outputs": []
    },
    {
      "cell_type": "markdown",
      "source": [
        "# Plotting of the results"
      ],
      "metadata": {
        "id": "Kvd52ZS9psog"
      }
    },
    {
      "cell_type": "markdown",
      "source": [
        "Comparing 3 methods from Sahu"
      ],
      "metadata": {
        "id": "G1Xc8WaKp73A"
      }
    },
    {
      "cell_type": "code",
      "source": [
        "import matplotlib.pyplot as plt\n",
        "import requests\n",
        "\n",
        "# List of optimizers\n",
        "optimizers = ['ZOIRDSA', 'ZOKWSA', 'ZORDSA']\n",
        "\n",
        "# Define lists to store data for all optimizers\n",
        "iteration_data = {optimizer: [] for optimizer in optimizers}\n",
        "loss_data = {optimizer: [] for optimizer in optimizers}\n",
        "query_count = {optimizer: [] for optimizer in optimizers}\n",
        "time_data = {optimizer: [] for optimizer in optimizers}\n",
        "\n",
        "# Loop over each optimizer\n",
        "for optimizer in optimizers:\n",
        "    # Fetch the file content from the URL\n",
        "    file_url = f'https://raw.githubusercontent.com/JackdiQuadri97/Optimization-for-Data-Science---Project/master/Results/{optimizer}/log.txt'\n",
        "    response = requests.get(file_url)\n",
        "    lines = response.text.split('\\n')\n",
        "\n",
        "    # Parse the data starting from line 20\n",
        "    for line in lines:\n",
        "        if 'Iteration Index:' in line:\n",
        "            parts = line.split()\n",
        "            iteration_data[optimizer].append(int(parts[2]))   # 4 - Query_Count; 6 - Time; 8 - Loss_Overall; 10 - Loss_Distortion; 12 - Loss_Attack; 14 - Current_Best_Distortion\n",
        "            loss_data[optimizer].append(float(parts[8]))\n",
        "            query_count[optimizer].append(int(parts[4]))\n",
        "            time_data[optimizer].append(float(parts[6])/3600)\n",
        "\n",
        "# Create the first plot (Query_Count vs. Loss_Overall)\n",
        "plt.figure(figsize=(10, 5))\n",
        "for optimizer in optimizers:\n",
        "    plt.plot(query_count[optimizer], loss_data[optimizer], linestyle='-', label=f'{optimizer} - Loss_Overall')\n",
        "\n",
        "plt.title('Query_Count vs. Loss_Overall', fontsize=16)\n",
        "plt.xlabel('Query_Count', fontsize=12)\n",
        "plt.xlim(0, 80000)\n",
        "plt.ylabel('Loss_Overall', fontsize=12)\n",
        "plt.grid(True, linestyle='--', alpha=0.7)\n",
        "plt.legend(loc='best', fontsize=12)\n",
        "plt.tight_layout()\n",
        "pdf_filename_query = 'query_loss_sahu.pdf'\n",
        "plt.savefig(pdf_filename_query)\n",
        "plt.close()\n",
        "\n",
        "# Create the second plot (Iteration vs. Loss_Overall) limited to 1000 iterations\n",
        "plt.figure(figsize=(10, 5))\n",
        "for optimizer in optimizers:\n",
        "    plt.plot(iteration_data[optimizer], loss_data[optimizer], linestyle='-', label=f'{optimizer} - Loss_Overall')\n",
        "\n",
        "plt.title('Iteration vs. Loss_Overall', fontsize=16)\n",
        "plt.xlabel('Iteration Index', fontsize=12)\n",
        "plt.xlim(0, 1000)\n",
        "plt.ylabel('Loss_Overall', fontsize=12)\n",
        "plt.grid(True, linestyle='--', alpha=0.7)\n",
        "plt.legend(loc='best', fontsize=12)\n",
        "plt.tight_layout()\n",
        "pdf_filename_iteration_limit = 'iteration_loss_sahu_limit.pdf'\n",
        "plt.savefig(pdf_filename_iteration_limit)\n",
        "plt.close()\n",
        "\n",
        "# Create the second plot (Iteration vs. Loss_Overall)\n",
        "plt.figure(figsize=(10, 5))\n",
        "for optimizer in optimizers:\n",
        "    plt.plot(iteration_data[optimizer], loss_data[optimizer], linestyle='-', label=f'{optimizer} - Loss_Overall')\n",
        "\n",
        "plt.title('Iteration vs. Loss_Overall', fontsize=16)\n",
        "plt.xlabel('Iteration Index', fontsize=12)\n",
        "plt.xlim(0, 20000)\n",
        "plt.ylabel('Loss_Overall', fontsize=12)\n",
        "plt.grid(True, linestyle='--', alpha=0.7)\n",
        "plt.legend(loc='best', fontsize=12)\n",
        "plt.tight_layout()\n",
        "pdf_filename_iteration = 'iteration_loss_sahu.pdf'\n",
        "plt.savefig(pdf_filename_iteration)\n",
        "plt.close()\n",
        "\n",
        "# Create the third plot (Time vs. Loss_Overall)\n",
        "plt.figure(figsize=(10, 5))\n",
        "for optimizer in optimizers:\n",
        "    plt.plot(time_data[optimizer], loss_data[optimizer], linestyle='-', label=f'{optimizer} - Loss_Overall')\n",
        "\n",
        "plt.title('Time vs. Loss_Overall', fontsize=16)\n",
        "plt.xlabel('Time (hours)', fontsize=12)\n",
        "plt.xlim(0, 12500/3600)\n",
        "plt.ylabel('Loss_Overall', fontsize=12)\n",
        "plt.grid(True, linestyle='--', alpha=0.7)\n",
        "plt.legend(loc='best', fontsize=12)\n",
        "plt.tight_layout()\n",
        "pdf_filename_iteration = 'time_loss_sahu.pdf'\n",
        "plt.savefig(pdf_filename_iteration)\n",
        "plt.close()\n",
        "\n",
        "# Provide the names of the saved PDF files\n",
        "print(f'Query_Count vs. Loss_Overall plot for Sahu saved as {pdf_filename_query}')\n",
        "print(f'Iteration vs. Loss_Overall plot limited to 1000 for Sahu saved as {pdf_filename_iteration_limit}')\n",
        "print(f'Iteration vs. Loss_Overall plot for Sahu saved as {pdf_filename_iteration}')\n",
        "print(f'Time vs. Loss_Overall plot for Sahu saved as {pdf_filename_iteration}')"
      ],
      "metadata": {
        "id": "kocg9QZMpnUK",
        "colab": {
          "base_uri": "https://localhost:8080/"
        },
        "outputId": "99d57e64-05c4-428f-9049-7a90fe59b728"
      },
      "execution_count": null,
      "outputs": [
        {
          "output_type": "stream",
          "name": "stdout",
          "text": [
            "Query_Count vs. Loss_Overall plot for Sahu saved as query_loss_sahu.pdf\n",
            "Iteration vs. Loss_Overall plot limited to 1000 for Sahu saved as iteration_loss_sahu_limit.pdf\n",
            "Iteration vs. Loss_Overall plot for Sahu saved as time_loss_sahu.pdf\n",
            "Time vs. Loss_Overall plot for Sahu saved as time_loss_sahu.pdf\n"
          ]
        }
      ]
    },
    {
      "cell_type": "markdown",
      "source": [
        "Comparing FCGS with Q and sign"
      ],
      "metadata": {
        "id": "6GbfGjeHp-95"
      }
    },
    {
      "cell_type": "code",
      "source": [
        "import matplotlib.pyplot as plt\n",
        "import requests\n",
        "\n",
        "# List of optimizers\n",
        "optimizers = ['FZCGS-1', 'FZCGS-2']\n",
        "\n",
        "# Define lists to store data for all optimizers\n",
        "iteration_data = {optimizer: [] for optimizer in optimizers}\n",
        "loss_data = {optimizer: [] for optimizer in optimizers}\n",
        "query_count = {optimizer: [] for optimizer in optimizers}\n",
        "time_data = {optimizer: [] for optimizer in optimizers}\n",
        "\n",
        "# Loop over each optimizer\n",
        "for optimizer in optimizers:\n",
        "    # Fetch the file content from the URL\n",
        "    file_url = f'https://raw.githubusercontent.com/JackdiQuadri97/Optimization-for-Data-Science---Project/master/Results/{optimizer}/log.txt'\n",
        "    response = requests.get(file_url)\n",
        "    lines = response.text.split('\\n')\n",
        "\n",
        "    if optimizer == 'ZOFCGS':\n",
        "      for line in lines:\n",
        "        if 'Iteration Index:' in line:\n",
        "            parts = line.split()\n",
        "            iteration_data[optimizer].append(int(parts[2]))\n",
        "            loss_data[optimizer].append(float(parts[8]))\n",
        "            query_count[optimizer].append(int(parts[4]))\n",
        "    else:\n",
        "      # Parse the data starting from line 20\n",
        "      for line in lines:\n",
        "          if 'Iteration Index:' in line:\n",
        "              parts = line.split()\n",
        "              iteration_data[optimizer].append(int(parts[2]))   # 4 - Query_Count; 6 - Time; 8 - Loss_Overall; 10 - Loss_Distortion; 12 - Loss_Attack; 14 - Current_Best_Distortion\n",
        "              loss_data[optimizer].append(float(parts[8]))\n",
        "              query_count[optimizer].append(int(parts[4]))\n",
        "\n",
        "# Create the first plot (Query_Count vs. Loss_Overall)\n",
        "plt.figure(figsize=(10, 5))\n",
        "for optimizer in optimizers:\n",
        "    plt.plot(query_count[optimizer], loss_data[optimizer], linestyle='-', label=f'{optimizer} - Loss_Overall')\n",
        "\n",
        "plt.title('Query_Count vs. Loss_Overall', fontsize=16)\n",
        "plt.xlabel('Query_Count', fontsize=12)\n",
        "plt.xlim(0, 150000)\n",
        "plt.ylabel('Loss_Overall', fontsize=12)\n",
        "plt.grid(True, linestyle='--', alpha=0.7)\n",
        "plt.legend(loc='best', fontsize=12)\n",
        "plt.tight_layout()\n",
        "pdf_filename_query = 'query_loss_Gao.pdf'\n",
        "plt.savefig(pdf_filename_query)\n",
        "plt.close()\n",
        "\n",
        "# Create the second plot (Iteration vs. Loss_Overall)\n",
        "plt.figure(figsize=(10, 5))\n",
        "for optimizer in optimizers:\n",
        "    plt.plot(iteration_data[optimizer], loss_data[optimizer], linestyle='-', label=f'{optimizer} - Loss_Overall')\n",
        "\n",
        "plt.title('Iteration vs. Loss_Overall', fontsize=16)\n",
        "plt.xlabel('Iteration Index', fontsize=12)\n",
        "plt.xlim(0, 200)\n",
        "plt.ylabel('Loss_Overall', fontsize=12)\n",
        "plt.grid(True, linestyle='--', alpha=0.7)\n",
        "plt.legend(loc='best', fontsize=12)\n",
        "plt.tight_layout()\n",
        "pdf_filename_iteration = 'iteration_loss_Gao.pdf'\n",
        "plt.savefig(pdf_filename_iteration)\n",
        "plt.close()\n",
        "\n",
        "# Provide the names of the saved PDF files\n",
        "print(f'Query_Count vs. Loss_Overall plot for Gao saved as {pdf_filename_query}')\n",
        "print(f'Iteration vs. Loss_Overall plot for Gao saved as {pdf_filename_iteration}')"
      ],
      "metadata": {
        "id": "4kfyjGMYpvzc",
        "colab": {
          "base_uri": "https://localhost:8080/"
        },
        "outputId": "cd491c72-4ff2-49dc-b4c0-0417d3eccce8"
      },
      "execution_count": null,
      "outputs": [
        {
          "output_type": "stream",
          "name": "stdout",
          "text": [
            "Query_Count vs. Loss_Overall plot for Gao saved as query_loss_Gao.pdf\n",
            "Iteration vs. Loss_Overall plot for Gao saved as iteration_loss_Gao.pdf\n"
          ]
        }
      ]
    },
    {
      "cell_type": "markdown",
      "source": [
        "Compare all methods (best versions) + SGD"
      ],
      "metadata": {
        "id": "AgOqNPQVqCfE"
      }
    },
    {
      "cell_type": "code",
      "source": [
        "import matplotlib.pyplot as plt\n",
        "import requests\n",
        "\n",
        "# List of optimizers\n",
        "optimizers = ['FZCGS-2', 'ZOIRDSA', 'ZOSCGS', 'ZOSGD']\n",
        "\n",
        "# Define lists to store data for all optimizers\n",
        "iteration_data = {optimizer: [] for optimizer in optimizers}\n",
        "loss_data = {optimizer: [] for optimizer in optimizers}\n",
        "query_count = {optimizer: [] for optimizer in optimizers}\n",
        "time_data = {optimizer: [] for optimizer in optimizers}\n",
        "\n",
        "# Loop over each optimizer\n",
        "for optimizer in optimizers:\n",
        "    # Fetch the file content from the URL\n",
        "    file_url = f'https://raw.githubusercontent.com/JackdiQuadri97/Optimization-for-Data-Science---Project/master/Results/{optimizer}/log.txt'\n",
        "    response = requests.get(file_url)\n",
        "    lines = response.text.split('\\n')\n",
        "\n",
        "    # Parse the data starting from line 20\n",
        "    for line in lines:\n",
        "        if 'Iteration Index:' in line:\n",
        "            parts = line.split()\n",
        "            iteration_data[optimizer].append(int(parts[2]))   # 4 - Query_Count; 6 - Time; 8 - Loss_Overall; 10 - Loss_Distortion; 12 - Loss_Attack; 14 - Current_Best_Distortion\n",
        "            loss_data[optimizer].append(float(parts[8]))\n",
        "            query_count[optimizer].append(int(parts[4]))\n",
        "            time_data[optimizer].append(float(parts[6])/3600)\n",
        "\n",
        "# Create the first plot (Query_Count vs. Loss_Overall)\n",
        "plt.figure(figsize=(10, 5))\n",
        "for optimizer in optimizers:\n",
        "    plt.plot(query_count[optimizer], loss_data[optimizer], linestyle='-', label=f'{optimizer} - Loss_Overall')\n",
        "\n",
        "plt.title('Query_Count vs. Loss_Overall', fontsize=16)\n",
        "plt.xlabel('Query_Count', fontsize=12)\n",
        "plt.xlim(0, 140000)\n",
        "plt.ylabel('Loss_Overall', fontsize=12)\n",
        "plt.grid(True, linestyle='--', alpha=0.7)\n",
        "plt.legend(loc='best', fontsize=12)\n",
        "plt.tight_layout()\n",
        "pdf_filename_query = 'query_loss_all_optimizers.pdf'\n",
        "plt.savefig(pdf_filename_query)\n",
        "plt.close()\n",
        "\n",
        "# Create the first plot (Query_Count vs. Loss_Overall) limited to 50000 queries\n",
        "plt.figure(figsize=(10, 5))\n",
        "for optimizer in optimizers:\n",
        "    plt.plot(query_count[optimizer], loss_data[optimizer], linestyle='-', label=f'{optimizer} - Loss_Overall')\n",
        "\n",
        "plt.title('Query_Count vs. Loss_Overall', fontsize=16)\n",
        "plt.xlabel('Query_Count', fontsize=12)\n",
        "plt.xlim(0, 50000)\n",
        "plt.ylabel('Loss_Overall', fontsize=12)\n",
        "plt.grid(True, linestyle='--', alpha=0.7)\n",
        "plt.legend(loc='best', fontsize=12)\n",
        "plt.tight_layout()\n",
        "pdf_filename_query_limit = 'query_loss_all_optimizers_limit.pdf'\n",
        "plt.savefig(pdf_filename_query_limit)\n",
        "plt.close()\n",
        "\n",
        "# Create the second plot (Iteration vs. Loss_Overall) limited to 1000 iterations\n",
        "plt.figure(figsize=(10, 5))\n",
        "for optimizer in optimizers:\n",
        "    plt.plot(iteration_data[optimizer], loss_data[optimizer], linestyle='-', label=f'{optimizer} - Loss_Overall')\n",
        "\n",
        "plt.title('Iteration vs. Loss_Overall', fontsize=16)\n",
        "plt.xlabel('Iteration Index', fontsize=12)\n",
        "plt.xlim(0, 1000)\n",
        "plt.ylabel('Loss_Overall', fontsize=12)\n",
        "plt.grid(True, linestyle='--', alpha=0.7)\n",
        "plt.legend(loc='best', fontsize=12)\n",
        "plt.tight_layout()\n",
        "pdf_filename_iteration_limit1000 = 'iteration_loss_all_optimizers_limit1000.pdf'\n",
        "plt.savefig(pdf_filename_iteration_limit1000)\n",
        "plt.close()\n",
        "\n",
        "# Create the second plot (Iteration vs. Loss_Overall) limited to 200 iterations\n",
        "plt.figure(figsize=(10, 5))\n",
        "for optimizer in optimizers:\n",
        "    plt.plot(iteration_data[optimizer], loss_data[optimizer], linestyle='-', label=f'{optimizer} - Loss_Overall')\n",
        "\n",
        "plt.title('Iteration vs. Loss_Overall', fontsize=16)\n",
        "plt.xlabel('Iteration Index', fontsize=12)\n",
        "plt.xlim(0, 200)\n",
        "plt.ylabel('Loss_Overall', fontsize=12)\n",
        "plt.grid(True, linestyle='--', alpha=0.7)\n",
        "plt.legend(loc='best', fontsize=12)\n",
        "plt.tight_layout()\n",
        "pdf_filename_iteration_limit200 = 'iteration_loss_all_optimizers_limit200.pdf'\n",
        "plt.savefig(pdf_filename_iteration_limit200)\n",
        "plt.close()\n",
        "\n",
        "# Create the second plot (Iteration vs. Loss_Overall)\n",
        "plt.figure(figsize=(10, 5))\n",
        "for optimizer in optimizers:\n",
        "    plt.plot(iteration_data[optimizer], loss_data[optimizer], linestyle='-', label=f'{optimizer} - Loss_Overall')\n",
        "\n",
        "plt.title('Iteration vs. Loss_Overall', fontsize=16)\n",
        "plt.xlabel('Iteration Index', fontsize=12)\n",
        "plt.xlim(0, 10000)\n",
        "plt.ylabel('Loss_Overall', fontsize=12)\n",
        "plt.grid(True, linestyle='--', alpha=0.7)\n",
        "plt.legend(loc='best', fontsize=12)\n",
        "plt.tight_layout()\n",
        "pdf_filename_iteration = 'iteration_loss_all_optimizers.pdf'\n",
        "plt.savefig(pdf_filename_iteration)\n",
        "plt.close()\n",
        "\n",
        "# Create the third plot (Time vs. Loss_Overall)\n",
        "plt.figure(figsize=(10, 5))\n",
        "for optimizer in optimizers:\n",
        "    plt.plot(time_data[optimizer], loss_data[optimizer], linestyle='-', label=f'{optimizer} - Loss_Overall')\n",
        "\n",
        "plt.title('Time vs. Loss_Overall', fontsize=16)\n",
        "plt.xlabel('Time (hours)', fontsize=12)\n",
        "plt.xlim(0, 13000/3600)\n",
        "plt.ylabel('Loss_Overall', fontsize=12)\n",
        "plt.grid(True, linestyle='--', alpha=0.7)\n",
        "plt.legend(loc='best', fontsize=12)\n",
        "plt.tight_layout()\n",
        "pdf_filename_iteration = 'time_loss_all_optimizers.pdf'\n",
        "plt.savefig(pdf_filename_iteration)\n",
        "plt.close()\n",
        "\n",
        "# Provide the names of the saved PDF files\n",
        "print(f'Query_Count vs. Loss_Overall plot for all optimizers saved as {pdf_filename_query}')\n",
        "print(f'Query_Count vs. Loss_Overall plot limited to 50000 for all optimizers saved as {pdf_filename_query_limit}')\n",
        "print(f'Iteration vs. Loss_Overall plot limited to 1000 for all optimizers saved as {pdf_filename_iteration_limit1000}')\n",
        "print(f'Iteration vs. Loss_Overall plot limited to 200 for all optimizers saved as {pdf_filename_iteration_limit200}')\n",
        "print(f'Iteration vs. Loss_Overall plot for all optimizers saved as {pdf_filename_iteration}')\n",
        "print(f'Time vs. Loss_Overall plot for all optimizers saved as {pdf_filename_iteration}')"
      ],
      "metadata": {
        "id": "trTd1drTp0IW",
        "colab": {
          "base_uri": "https://localhost:8080/"
        },
        "outputId": "59d662dc-371e-4c3c-b72d-2aea9b7ce036"
      },
      "execution_count": null,
      "outputs": [
        {
          "output_type": "stream",
          "name": "stdout",
          "text": [
            "Query_Count vs. Loss_Overall plot for all optimizers saved as query_loss_all_optimizers.pdf\n",
            "Query_Count vs. Loss_Overall plot limited to 50000 for all optimizers saved as query_loss_all_optimizers_limit.pdf\n",
            "Iteration vs. Loss_Overall plot limited to 1000 for all optimizers saved as iteration_loss_all_optimizers_limit1000.pdf\n",
            "Iteration vs. Loss_Overall plot limited to 200 for all optimizers saved as iteration_loss_all_optimizers_limit200.pdf\n",
            "Iteration vs. Loss_Overall plot for all optimizers saved as time_loss_all_optimizers.pdf\n",
            "Time vs. Loss_Overall plot for all optimizers saved as time_loss_all_optimizers.pdf\n"
          ]
        }
      ]
    }
  ]
}